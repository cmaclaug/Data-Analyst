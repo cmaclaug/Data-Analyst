{
 "cells": [
  {
   "cell_type": "code",
   "execution_count": 1,
   "metadata": {},
   "outputs": [
    {
     "name": "stdout",
     "output_type": "stream",
     "text": [
      "expected result: 10, actual result: 10.0\n",
      "expected result: 7123.6902801, actual result: 7123.690280065897\n"
     ]
    }
   ],
   "source": [
    "# write your function here\n",
    "def population_density(land_area,population):\n",
    "    return land_area/population\n",
    "\n",
    "\n",
    "\n",
    "# test cases for your function\n",
    "test1 = population_density(10, 1)\n",
    "expected_result1 = 10\n",
    "print(\"expected result: {}, actual result: {}\".format(expected_result1, test1))\n",
    "\n",
    "test2 = population_density(864816, 121.4)\n",
    "expected_result2 = 7123.6902801\n",
    "print(\"expected result: {}, actual result: {}\".format(expected_result2, test2))"
   ]
  },
  {
   "cell_type": "code",
   "execution_count": 9,
   "metadata": {},
   "outputs": [
    {
     "name": "stdout",
     "output_type": "stream",
     "text": [
      "1010 week(s) and 2 day(s)\n"
     ]
    }
   ],
   "source": [
    "# write your function here\n",
    "def readable_timedelta (days):\n",
    "    days_remain = int(days % 7)\n",
    "    weeks = int((days-days_remain)/7)\n",
    "    return \"{} week(s) and {} day(s)\".format(weeks,days_remain)\n",
    "\n",
    "# test your function\n",
    "print(readable_timedelta(7072))"
   ]
  },
  {
   "cell_type": "code",
   "execution_count": null,
   "metadata": {},
   "outputs": [],
   "source": []
  }
 ],
 "metadata": {
  "kernelspec": {
   "display_name": "Python 3",
   "language": "python",
   "name": "python3"
  },
  "language_info": {
   "codemirror_mode": {
    "name": "ipython",
    "version": 3
   },
   "file_extension": ".py",
   "mimetype": "text/x-python",
   "name": "python",
   "nbconvert_exporter": "python",
   "pygments_lexer": "ipython3",
   "version": "3.7.3"
  }
 },
 "nbformat": 4,
 "nbformat_minor": 2
}
