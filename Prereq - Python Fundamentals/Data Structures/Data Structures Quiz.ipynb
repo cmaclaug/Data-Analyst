{
 "cells": [
  {
   "cell_type": "code",
   "execution_count": 17,
   "metadata": {},
   "outputs": [
    {
     "name": "stdout",
     "output_type": "stream",
     "text": [
      "if you can keep your head when all about you are losing theirs and blaming it on you   if you can trust yourself when all men doubt you     but make allowance for their doubting too   if you can wait and not be tired by waiting      or being lied about  don’t deal in lies   or being hated  don’t give way to hating      and yet don’t look too good  nor talk too wise \n",
      "\n"
     ]
    }
   ],
   "source": [
    "verse = \"if you can keep your head when all about you are losing theirs and blaming it on you   if you can trust yourself when all men doubt you     but make allowance for their doubting too   if you can wait and not be tired by waiting      or being lied about  don’t deal in lies   or being hated  don’t give way to hating      and yet don’t look too good  nor talk too wise\"\n",
    "print(verse, '\\n')"
   ]
  },
  {
   "cell_type": "code",
   "execution_count": 19,
   "metadata": {},
   "outputs": [
    {
     "data": {
      "text/plain": [
       "['if',\n",
       " 'you',\n",
       " 'can',\n",
       " 'keep',\n",
       " 'your',\n",
       " 'head',\n",
       " 'when',\n",
       " 'all',\n",
       " 'about',\n",
       " 'you',\n",
       " 'are',\n",
       " 'losing',\n",
       " 'theirs',\n",
       " 'and',\n",
       " 'blaming',\n",
       " 'it',\n",
       " 'on',\n",
       " 'you',\n",
       " 'if',\n",
       " 'you',\n",
       " 'can',\n",
       " 'trust',\n",
       " 'yourself',\n",
       " 'when',\n",
       " 'all',\n",
       " 'men',\n",
       " 'doubt',\n",
       " 'you',\n",
       " 'but',\n",
       " 'make',\n",
       " 'allowance',\n",
       " 'for',\n",
       " 'their',\n",
       " 'doubting',\n",
       " 'too',\n",
       " 'if',\n",
       " 'you',\n",
       " 'can',\n",
       " 'wait',\n",
       " 'and',\n",
       " 'not',\n",
       " 'be',\n",
       " 'tired',\n",
       " 'by',\n",
       " 'waiting',\n",
       " 'or',\n",
       " 'being',\n",
       " 'lied',\n",
       " 'about',\n",
       " 'don’t',\n",
       " 'deal',\n",
       " 'in',\n",
       " 'lies',\n",
       " 'or',\n",
       " 'being',\n",
       " 'hated',\n",
       " 'don’t',\n",
       " 'give',\n",
       " 'way',\n",
       " 'to',\n",
       " 'hating',\n",
       " 'and',\n",
       " 'yet',\n",
       " 'don’t',\n",
       " 'look',\n",
       " 'too',\n",
       " 'good',\n",
       " 'nor',\n",
       " 'talk',\n",
       " 'too',\n",
       " 'wise']"
      ]
     },
     "execution_count": 19,
     "metadata": {},
     "output_type": "execute_result"
    }
   ],
   "source": [
    "verse_list = verse.split()\n",
    "verse_list"
   ]
  },
  {
   "cell_type": "code",
   "execution_count": 20,
   "metadata": {},
   "outputs": [
    {
     "data": {
      "text/plain": [
       "{'about',\n",
       " 'all',\n",
       " 'allowance',\n",
       " 'and',\n",
       " 'are',\n",
       " 'be',\n",
       " 'being',\n",
       " 'blaming',\n",
       " 'but',\n",
       " 'by',\n",
       " 'can',\n",
       " 'deal',\n",
       " 'don’t',\n",
       " 'doubt',\n",
       " 'doubting',\n",
       " 'for',\n",
       " 'give',\n",
       " 'good',\n",
       " 'hated',\n",
       " 'hating',\n",
       " 'head',\n",
       " 'if',\n",
       " 'in',\n",
       " 'it',\n",
       " 'keep',\n",
       " 'lied',\n",
       " 'lies',\n",
       " 'look',\n",
       " 'losing',\n",
       " 'make',\n",
       " 'men',\n",
       " 'nor',\n",
       " 'not',\n",
       " 'on',\n",
       " 'or',\n",
       " 'talk',\n",
       " 'their',\n",
       " 'theirs',\n",
       " 'tired',\n",
       " 'to',\n",
       " 'too',\n",
       " 'trust',\n",
       " 'wait',\n",
       " 'waiting',\n",
       " 'way',\n",
       " 'when',\n",
       " 'wise',\n",
       " 'yet',\n",
       " 'you',\n",
       " 'your',\n",
       " 'yourself'}"
      ]
     },
     "execution_count": 20,
     "metadata": {},
     "output_type": "execute_result"
    }
   ],
   "source": [
    "verse_set = set(verse_list)\n",
    "verse_set"
   ]
  },
  {
   "cell_type": "code",
   "execution_count": 24,
   "metadata": {},
   "outputs": [
    {
     "data": {
      "text/plain": [
       "51"
      ]
     },
     "execution_count": 24,
     "metadata": {},
     "output_type": "execute_result"
    }
   ],
   "source": [
    "num_unique = len(verse_set)\n",
    "num_unique"
   ]
  },
  {
   "cell_type": "code",
   "execution_count": 25,
   "metadata": {},
   "outputs": [
    {
     "name": "stdout",
     "output_type": "stream",
     "text": [
      "{'if': 3, 'you': 6, 'can': 3, 'keep': 1, 'your': 1, 'head': 1, 'when': 2, 'all': 2, 'about': 2, 'are': 1, 'losing': 1, 'theirs': 1, 'and': 3, 'blaming': 1, 'it': 1, 'on': 1, 'trust': 1, 'yourself': 1, 'men': 1, 'doubt': 1, 'but': 1, 'make': 1, 'allowance': 1, 'for': 1, 'their': 1, 'doubting': 1, 'too': 3, 'wait': 1, 'not': 1, 'be': 1, 'tired': 1, 'by': 1, 'waiting': 1, 'or': 2, 'being': 2, 'lied': 1, \"don't\": 3, 'deal': 1, 'in': 1, 'lies': 1, 'hated': 1, 'give': 1, 'way': 1, 'to': 1, 'hating': 1, 'yet': 1, 'look': 1, 'good': 1, 'nor': 1, 'talk': 1, 'wise': 1} \n",
      "\n"
     ]
    }
   ],
   "source": [
    "verse_dict =  {'if': 3, 'you': 6, 'can': 3, 'keep': 1, 'your': 1, 'head': 1, 'when': 2, 'all': 2, 'about': 2, 'are': 1, 'losing': 1, 'theirs': 1, 'and': 3, 'blaming': 1, 'it': 1, 'on': 1, 'trust': 1, 'yourself': 1, 'men': 1, 'doubt': 1, 'but': 1, 'make': 1, 'allowance': 1, 'for': 1, 'their': 1, 'doubting': 1, 'too': 3, 'wait': 1, 'not': 1, 'be': 1, 'tired': 1, 'by': 1, 'waiting': 1, 'or': 2, 'being': 2, 'lied': 1, 'don\\'t': 3, 'deal': 1, 'in': 1, 'lies': 1, 'hated': 1, 'give': 1, 'way': 1, 'to': 1, 'hating': 1, 'yet': 1, 'look': 1, 'good': 1, 'nor': 1, 'talk': 1, 'wise': 1}\n",
    "print(verse_dict, '\\n')"
   ]
  },
  {
   "cell_type": "code",
   "execution_count": 27,
   "metadata": {},
   "outputs": [
    {
     "data": {
      "text/plain": [
       "51"
      ]
     },
     "execution_count": 27,
     "metadata": {},
     "output_type": "execute_result"
    }
   ],
   "source": [
    "num_keys = len(verse_dict)\n",
    "num_keys"
   ]
  },
  {
   "cell_type": "code",
   "execution_count": 30,
   "metadata": {},
   "outputs": [
    {
     "data": {
      "text/plain": [
       "False"
      ]
     },
     "execution_count": 30,
     "metadata": {},
     "output_type": "execute_result"
    }
   ],
   "source": [
    "contains_breathe = 'breathe' in verse_dict\n",
    "contains_breathe"
   ]
  },
  {
   "cell_type": "code",
   "execution_count": 47,
   "metadata": {},
   "outputs": [
    {
     "data": {
      "text/plain": [
       "['about',\n",
       " 'all',\n",
       " 'allowance',\n",
       " 'and',\n",
       " 'are',\n",
       " 'be',\n",
       " 'being',\n",
       " 'blaming',\n",
       " 'but',\n",
       " 'by',\n",
       " 'can',\n",
       " 'deal',\n",
       " \"don't\",\n",
       " 'doubt',\n",
       " 'doubting',\n",
       " 'for',\n",
       " 'give',\n",
       " 'good',\n",
       " 'hated',\n",
       " 'hating',\n",
       " 'head',\n",
       " 'if',\n",
       " 'in',\n",
       " 'it',\n",
       " 'keep',\n",
       " 'lied',\n",
       " 'lies',\n",
       " 'look',\n",
       " 'losing',\n",
       " 'make',\n",
       " 'men',\n",
       " 'nor',\n",
       " 'not',\n",
       " 'on',\n",
       " 'or',\n",
       " 'talk',\n",
       " 'their',\n",
       " 'theirs',\n",
       " 'tired',\n",
       " 'to',\n",
       " 'too',\n",
       " 'trust',\n",
       " 'wait',\n",
       " 'waiting',\n",
       " 'way',\n",
       " 'when',\n",
       " 'wise',\n",
       " 'yet',\n",
       " 'you',\n",
       " 'your',\n",
       " 'yourself']"
      ]
     },
     "execution_count": 47,
     "metadata": {},
     "output_type": "execute_result"
    }
   ],
   "source": [
    "def getList(verse_dict):\n",
    "    return list(verse_dict.keys())\n",
    "sorted_list = getList(verse_dict)\n",
    "sorted_list.sort()\n",
    "sorted_list"
   ]
  },
  {
   "cell_type": "code",
   "execution_count": 50,
   "metadata": {},
   "outputs": [
    {
     "data": {
      "text/plain": [
       "'about'"
      ]
     },
     "execution_count": 50,
     "metadata": {},
     "output_type": "execute_result"
    }
   ],
   "source": [
    "sorted_list[0]"
   ]
  },
  {
   "cell_type": "code",
   "execution_count": 49,
   "metadata": {},
   "outputs": [
    {
     "data": {
      "text/plain": [
       "'yourself'"
      ]
     },
     "execution_count": 49,
     "metadata": {},
     "output_type": "execute_result"
    }
   ],
   "source": [
    "sorted_list[-1]"
   ]
  },
  {
   "cell_type": "code",
   "execution_count": 57,
   "metadata": {},
   "outputs": [
    {
     "data": {
      "text/plain": [
       "6"
      ]
     },
     "execution_count": 57,
     "metadata": {},
     "output_type": "execute_result"
    }
   ],
   "source": [
    "max(verse_dict.values())\n"
   ]
  },
  {
   "cell_type": "code",
   "execution_count": null,
   "metadata": {},
   "outputs": [],
   "source": []
  },
  {
   "cell_type": "code",
   "execution_count": null,
   "metadata": {},
   "outputs": [],
   "source": []
  }
 ],
 "metadata": {
  "kernelspec": {
   "display_name": "Python 3",
   "language": "python",
   "name": "python3"
  },
  "language_info": {
   "codemirror_mode": {
    "name": "ipython",
    "version": 3
   },
   "file_extension": ".py",
   "mimetype": "text/x-python",
   "name": "python",
   "nbconvert_exporter": "python",
   "pygments_lexer": "ipython3",
   "version": "3.7.3"
  }
 },
 "nbformat": 4,
 "nbformat_minor": 2
}
